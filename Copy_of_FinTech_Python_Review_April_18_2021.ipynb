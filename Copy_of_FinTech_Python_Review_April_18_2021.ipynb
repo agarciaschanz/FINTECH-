{
  "nbformat": 4,
  "nbformat_minor": 0,
  "metadata": {
    "colab": {
      "name": "Copy of FinTech Python Review - April-18-2021.ipynb",
      "provenance": [],
      "collapsed_sections": [],
      "toc_visible": true,
      "include_colab_link": true
    },
    "kernelspec": {
      "name": "python3",
      "display_name": "Python 3"
    },
    "language_info": {
      "name": "python"
    }
  },
  "cells": [
    {
      "cell_type": "markdown",
      "metadata": {
        "id": "view-in-github",
        "colab_type": "text"
      },
      "source": [
        "<a href=\"https://colab.research.google.com/github/agarciaschanz/FINTECH-/blob/main/Copy_of_FinTech_Python_Review_April_18_2021.ipynb\" target=\"_parent\"><img src=\"https://colab.research.google.com/assets/colab-badge.svg\" alt=\"Open In Colab\"/></a>"
      ]
    },
    {
      "cell_type": "markdown",
      "metadata": {
        "id": "KvRrRXqkOZVw"
      },
      "source": [
        "# Python Review - FinTech Class \n",
        "> prepared by Tarek A. Atwan\n",
        " \n",
        "> 4/18/2021\n",
        "\n"
      ]
    },
    {
      "cell_type": "markdown",
      "metadata": {
        "id": "chJ1eBYDyxtv"
      },
      "source": [
        "# Python Data Types \n",
        "### Primitive Data Types\n",
        "* String (str)\n",
        "* Integer (int)\n",
        "* Float (float)\n",
        "* Boolean (bool)"
      ]
    },
    {
      "cell_type": "code",
      "metadata": {
        "colab": {
          "base_uri": "https://localhost:8080/"
        },
        "id": "0CzVMWlgyqQ6",
        "outputId": "e2060ca6-7f61-488c-8757-5cd7d4248a29"
      },
      "source": [
        "name = \"Jack Smith\"\n",
        "age = 18\n",
        "funds = 12.50\n",
        "student = True\n",
        "\n",
        "print(type(name))\n",
        "print(type(age))\n",
        "print(type(funds))\n",
        "print(type(student))"
      ],
      "execution_count": null,
      "outputs": [
        {
          "output_type": "stream",
          "text": [
            "<class 'str'>\n",
            "<class 'int'>\n",
            "<class 'float'>\n",
            "<class 'bool'>\n"
          ],
          "name": "stdout"
        }
      ]
    },
    {
      "cell_type": "markdown",
      "metadata": {
        "id": "2vIrD0yBzm-X"
      },
      "source": [
        "# Printing using `f-string` for formatting"
      ]
    },
    {
      "cell_type": "code",
      "metadata": {
        "colab": {
          "base_uri": "https://localhost:8080/"
        },
        "id": "fo5Qu6fCzK8G",
        "outputId": "5f5cbbd2-c3b6-4ec4-9fa4-2985834bf452"
      },
      "source": [
        "print(f\"Welcome our new student {name}\")"
      ],
      "execution_count": null,
      "outputs": [
        {
          "output_type": "stream",
          "text": [
            "Welcome our new student Jack Smith\n"
          ],
          "name": "stdout"
        }
      ]
    },
    {
      "cell_type": "code",
      "metadata": {
        "colab": {
          "base_uri": "https://localhost:8080/"
        },
        "id": "92IMbIiEzw3D",
        "outputId": "1ebfc26e-8e5a-4e90-c41d-3a242f08174d"
      },
      "source": [
        "# using f-string with triple quotes for multi-line\n",
        "print(f\"\"\"\n",
        "Name: {name}\n",
        "Age: {age}\n",
        "funds > $100: {funds > 100}\n",
        "student: {student}\n",
        "\"\"\")"
      ],
      "execution_count": null,
      "outputs": [
        {
          "output_type": "stream",
          "text": [
            "\n",
            "Name: Jack Smith\n",
            "Age: 18\n",
            "funds > $100: False\n",
            "student: True\n",
            "\n"
          ],
          "name": "stdout"
        }
      ]
    },
    {
      "cell_type": "markdown",
      "metadata": {
        "id": "D436mlFW4-Mf"
      },
      "source": [
        "## Printing with additional formatting "
      ]
    },
    {
      "cell_type": "code",
      "metadata": {
        "colab": {
          "base_uri": "https://localhost:8080/"
        },
        "id": "v1G_zfQU0BU0",
        "outputId": "cc715345-19b4-4d05-8f2e-99b336ce2a60"
      },
      "source": [
        "past_price = 120.56\n",
        "current_price = 132.20\n",
        "price_change = current_price - past_price\n",
        "\n",
        "# No formatting to the float variable\n",
        "print(f'The price went up by {price_change}')\n",
        "\n",
        "# example formatting the float variable, 2 decimal\n",
        "print(f'The price went up by {price_change:.2f}')\n",
        "\n",
        "# example formatting the float variable, 3 decimal \n",
        "print(f'The price went up by {price_change:.3f}')\n",
        "\n",
        "# or we can just use round()\n",
        "print(f'The price went up by {round(price_change, 2)}')"
      ],
      "execution_count": null,
      "outputs": [
        {
          "output_type": "stream",
          "text": [
            "The price went up by 11.639999999999986\n",
            "The price went up by 11.64\n",
            "The price went up by 11.640\n",
            "The price went up by 11.64\n"
          ],
          "name": "stdout"
        }
      ]
    },
    {
      "cell_type": "markdown",
      "metadata": {
        "id": "DEPAOshW9ZJQ"
      },
      "source": [
        "# Python Data Structures (Collection)\n",
        "* Lists\n",
        "* Dictionary"
      ]
    },
    {
      "cell_type": "markdown",
      "metadata": {
        "id": "jE8pzwrWJLHl"
      },
      "source": [
        "## Lists\n",
        "* A list is a Python data structure that allows multiple values to be stored inside of it.\n",
        "* List values can be retrieved, appended, removed, and iterated upon.\n",
        "\n",
        "Lists is a data structure with the following characteristics:\n",
        "* It is a collection of elements\n",
        "* It is ordered\n",
        "* It is heterogenous (can hold different data types)\n",
        "* It has a zero-based index"
      ]
    },
    {
      "cell_type": "code",
      "metadata": {
        "colab": {
          "base_uri": "https://localhost:8080/"
        },
        "id": "tLX3oWZU6Xcj",
        "outputId": "de1052c1-3cd6-4daf-8aae-a692e942db24"
      },
      "source": [
        "# homogenous list examples\n",
        "names = [\"James\", \"Sara\", \"Samantha\", \"Ali\", \"Mike\", \"Greg\"]\n",
        "grades = [75, 100, 98, 89, 92, 64]\n",
        "\n",
        "# heterogenous list example\n",
        "vehicle = ['Toyota', 2020, 'blue', True, False, 17500, 32.2]\n",
        "\n",
        "print(names)\n",
        "print(grades)\n",
        "print(vehicle)"
      ],
      "execution_count": null,
      "outputs": [
        {
          "output_type": "stream",
          "text": [
            "['James', 'Sara', 'Samantha', 'Ali', 'Mike', 'Greg']\n",
            "[75, 100, 98, 89, 92, 64]\n",
            "['Toyota', 2020, 'blue', True, False, 17500, 32.2]\n"
          ],
          "name": "stdout"
        }
      ]
    },
    {
      "cell_type": "code",
      "metadata": {
        "colab": {
          "base_uri": "https://localhost:8080/"
        },
        "id": "1Vq_iEh_UsKN",
        "outputId": "6afe1b30-a510-40ed-8e46-039b9619e3d7"
      },
      "source": [
        "print(f'number of grades entered: {len(grades)}')\n",
        "print(f'sum of grades: {sum(grades)}')\n",
        "print(f'min of grades: {min(grades)}')\n",
        "print(f'max of grades: {max(grades)}')\n",
        "print(f'avg of grades: {sum(grades)/len(grades):.2f}')"
      ],
      "execution_count": null,
      "outputs": [
        {
          "output_type": "stream",
          "text": [
            "number of grades entered: 6\n",
            "sum of grades: 518\n",
            "min of grades: 64\n",
            "max of grades: 100\n",
            "avg of grades: 86.33\n"
          ],
          "name": "stdout"
        }
      ]
    },
    {
      "cell_type": "code",
      "metadata": {
        "colab": {
          "base_uri": "https://localhost:8080/"
        },
        "id": "ALoVEg5IeAh6",
        "outputId": "69693b72-9dc5-4529-a81c-f8128602da47"
      },
      "source": [
        "# slicing\n",
        "print(names[0]) # specific index \n",
        "print(names[-1]) # last item\n",
        "print(names[2:4]) # a range from 2 to 4 where 4 is not included\n"
      ],
      "execution_count": null,
      "outputs": [
        {
          "output_type": "stream",
          "text": [
            "James\n",
            "Greg\n",
            "['Brent', 'Samantha']\n"
          ],
          "name": "stdout"
        }
      ]
    },
    {
      "cell_type": "markdown",
      "metadata": {
        "id": "Nw2usD_kQsiC"
      },
      "source": [
        "### List Operations example"
      ]
    },
    {
      "cell_type": "code",
      "metadata": {
        "colab": {
          "base_uri": "https://localhost:8080/"
        },
        "id": "s4f5rcdYQqyD",
        "outputId": "9106aef6-044a-4d33-f9eb-000c49ba193b"
      },
      "source": [
        "# appending to a list\n",
        "print('--------------------APPEND---------------')\n",
        "print(names)\n",
        "print('adding a new entry')\n",
        "\n",
        "names.append('Justin')\n",
        "\n",
        "print(names)\n",
        "print('--------------------------------------------')\n",
        "print('--------------------POP---------------')\n",
        "print(names)\n",
        "print('removing last entry')\n",
        "\n",
        "name_removed = names.pop()\n",
        "\n",
        "print(names)\n",
        "print(f'names removed is {name_removed}')\n",
        "print('--------------------------------------------')\n",
        "print('--------------------INSERT---------------')\n",
        "print(names)\n",
        "print('inserting a new name after Sara')\n",
        "\n",
        "name_removed = names.insert(2, 'Brent')\n",
        "\n",
        "print(names)\n",
        "print('--------------------------------------------')"
      ],
      "execution_count": null,
      "outputs": [
        {
          "output_type": "stream",
          "text": [
            "--------------------APPEND---------------\n",
            "['James', 'Sara', 'Samantha', 'Ali', 'Mike', 'Greg']\n",
            "adding a new entry\n",
            "['James', 'Sara', 'Samantha', 'Ali', 'Mike', 'Greg', 'Justin']\n",
            "--------------------------------------------\n",
            "--------------------POP---------------\n",
            "['James', 'Sara', 'Samantha', 'Ali', 'Mike', 'Greg', 'Justin']\n",
            "removing last entry\n",
            "['James', 'Sara', 'Samantha', 'Ali', 'Mike', 'Greg']\n",
            "names removed is Justin\n",
            "--------------------------------------------\n",
            "--------------------INSERT---------------\n",
            "['James', 'Sara', 'Samantha', 'Ali', 'Mike', 'Greg']\n",
            "inserting a new name after Sara\n",
            "['James', 'Sara', 'Brent', 'Samantha', 'Ali', 'Mike', 'Greg']\n",
            "--------------------------------------------\n"
          ],
          "name": "stdout"
        }
      ]
    },
    {
      "cell_type": "markdown",
      "metadata": {
        "id": "4NgmEfBhKJXk"
      },
      "source": [
        "## Dictionary\n",
        "* Dicts are mutable (changeable), unordered data structures with the following key characteristics:\n",
        "\n",
        "Dicts is a data structrue with the following characteristics:\n",
        "* A collection of key-value pairs\n",
        "* Unordered\n",
        "* Heterogeneous (can contain different data types)"
      ]
    },
    {
      "cell_type": "code",
      "metadata": {
        "colab": {
          "base_uri": "https://localhost:8080/"
        },
        "id": "QF0gZIjWKIkE",
        "outputId": "23f0b1c3-2f5f-4495-fc05-f4c7519bed03"
      },
      "source": [
        "vehicle_dict = {\n",
        "    \"maker\": \"Toyota\",\n",
        "    \"model\": \"Corolla\",\n",
        "    \"year\": 2020,\n",
        "    \"color\": \"blue\",\n",
        "    \"gps\": True,\n",
        "    \"hybrid\": False,\n",
        "    \"MSRP\": 17500,\n",
        "    \"MPG\": 32.2\n",
        "}\n",
        "\n",
        "print(vehicle_dict)"
      ],
      "execution_count": null,
      "outputs": [
        {
          "output_type": "stream",
          "text": [
            "{'maker': 'Toyota', 'model': 'Corolla', 'year': 2020, 'color': 'blue', 'gps': True, 'hybrid': False, 'MSRP': 17500, 'MPG': 32.2}\n"
          ],
          "name": "stdout"
        }
      ]
    },
    {
      "cell_type": "code",
      "metadata": {
        "id": "1v6044cCbGw8"
      },
      "source": [
        ""
      ],
      "execution_count": null,
      "outputs": []
    },
    {
      "cell_type": "code",
      "metadata": {
        "colab": {
          "base_uri": "https://localhost:8080/"
        },
        "id": "wBKZ-yWGeMft",
        "outputId": "55eba543-7b8b-4b2e-f7ea-756178094313"
      },
      "source": [
        "# slicing\n",
        "\n",
        "print(vehicle_dict['maker'])"
      ],
      "execution_count": null,
      "outputs": [
        {
          "output_type": "stream",
          "text": [
            "Honda\n"
          ],
          "name": "stdout"
        }
      ]
    },
    {
      "cell_type": "code",
      "metadata": {
        "colab": {
          "base_uri": "https://localhost:8080/"
        },
        "id": "35VJCSOjfCed",
        "outputId": "5ebe46d7-188d-42a1-c005-d8accb7ac8c4"
      },
      "source": [
        "# getting specific values based on keys\n",
        "\n",
        "info = ['year', 'color']\n",
        "for i in vehicle_dict.keys():\n",
        "  if i in info:\n",
        "    print(vehicle_dict[i])"
      ],
      "execution_count": null,
      "outputs": [
        {
          "output_type": "stream",
          "text": [
            "2020\n",
            "blue\n"
          ],
          "name": "stdout"
        }
      ]
    },
    {
      "cell_type": "code",
      "metadata": {
        "colab": {
          "base_uri": "https://localhost:8080/"
        },
        "id": "ssh5Ox_Jeywl",
        "outputId": "d8df5ece-b146-4ddb-dda0-51cacfd19dc6"
      },
      "source": [
        "# getting specific values based on keys\n",
        "# another way\n",
        "\n",
        "info = ['year', 'color']\n",
        "for i in vehicle_dict.keys():\n",
        "  if i in info:\n",
        "    print(vehicle_dict.get(i))"
      ],
      "execution_count": null,
      "outputs": [
        {
          "output_type": "stream",
          "text": [
            "2020\n",
            "blue\n"
          ],
          "name": "stdout"
        }
      ]
    },
    {
      "cell_type": "markdown",
      "metadata": {
        "id": "PCHa2YNFRwWg"
      },
      "source": [
        "### Dict Operations Example"
      ]
    },
    {
      "cell_type": "code",
      "metadata": {
        "colab": {
          "base_uri": "https://localhost:8080/"
        },
        "id": "R7TlXCUgRv07",
        "outputId": "e6ae87e4-11c2-4e33-f8d2-b13a5a2d5913"
      },
      "source": [
        "print(vehicle_dict.keys())\n",
        "print(vehicle_dict.values())\n",
        "print(vehicle_dict.items())\n",
        "\n",
        "print('--------------------Adding---------------')\n",
        "print(vehicle_dict)\n",
        "print('adding a new key value pair')\n",
        "\n",
        "vehicle_dict['dealership'] = 'some local place'\n",
        "\n",
        "print(vehicle_dict)\n",
        "print('--------------------------------------------')\n",
        "print('--------------------Updating---------------')\n",
        "print(vehicle_dict)\n",
        "print('updating values')\n",
        "\n",
        "vehicle_dict['maker'] = 'Honda'\n",
        "vehicle_dict['model'] = 'Civic'\n",
        "\n",
        "print(vehicle_dict)\n",
        "print('--------------------------------------------')"
      ],
      "execution_count": null,
      "outputs": [
        {
          "output_type": "stream",
          "text": [
            "dict_keys(['maker', 'model', 'year', 'color', 'gps', 'hybrid', 'MSRP', 'MPG'])\n",
            "dict_values(['Toyota', 'Corolla', 2020, 'blue', True, False, 17500, 32.2])\n",
            "dict_items([('maker', 'Toyota'), ('model', 'Corolla'), ('year', 2020), ('color', 'blue'), ('gps', True), ('hybrid', False), ('MSRP', 17500), ('MPG', 32.2)])\n",
            "--------------------Adding---------------\n",
            "{'maker': 'Toyota', 'model': 'Corolla', 'year': 2020, 'color': 'blue', 'gps': True, 'hybrid': False, 'MSRP': 17500, 'MPG': 32.2}\n",
            "adding a new key value pair\n",
            "{'maker': 'Toyota', 'model': 'Corolla', 'year': 2020, 'color': 'blue', 'gps': True, 'hybrid': False, 'MSRP': 17500, 'MPG': 32.2, 'dealership': 'some local place'}\n",
            "--------------------------------------------\n",
            "--------------------Updating---------------\n",
            "{'maker': 'Toyota', 'model': 'Corolla', 'year': 2020, 'color': 'blue', 'gps': True, 'hybrid': False, 'MSRP': 17500, 'MPG': 32.2, 'dealership': 'some local place'}\n",
            "updating values\n",
            "{'maker': 'Honda', 'model': 'Civic', 'year': 2020, 'color': 'blue', 'gps': True, 'hybrid': False, 'MSRP': 17500, 'MPG': 32.2, 'dealership': 'some local place'}\n",
            "--------------------------------------------\n"
          ],
          "name": "stdout"
        }
      ]
    },
    {
      "cell_type": "markdown",
      "metadata": {
        "id": "4ls0PfMELEpL"
      },
      "source": [
        "# Python Loops"
      ]
    },
    {
      "cell_type": "code",
      "metadata": {
        "colab": {
          "base_uri": "https://localhost:8080/"
        },
        "id": "a2VbaRphK6CH",
        "outputId": "1303007b-f99d-41d7-ab66-91a82c187e90"
      },
      "source": [
        "for i in range(10):\n",
        "  print(i, i*2)"
      ],
      "execution_count": null,
      "outputs": [
        {
          "output_type": "stream",
          "text": [
            "0 0\n",
            "1 2\n",
            "2 4\n",
            "3 6\n",
            "4 8\n",
            "5 10\n",
            "6 12\n",
            "7 14\n",
            "8 16\n",
            "9 18\n"
          ],
          "name": "stdout"
        }
      ]
    },
    {
      "cell_type": "code",
      "metadata": {
        "colab": {
          "base_uri": "https://localhost:8080/"
        },
        "id": "fey3ATcvLNLI",
        "outputId": "c9971e57-3897-486e-fb79-873915893b22"
      },
      "source": [
        "# looping through a list\n",
        "for name in names:\n",
        "  print(f'Welcome {name}')"
      ],
      "execution_count": null,
      "outputs": [
        {
          "output_type": "stream",
          "text": [
            "Welcome James\n",
            "Welcome Sara\n",
            "Welcome Samantha\n",
            "Welcome Ali\n",
            "Welcome Mike\n",
            "Welcome Greg\n"
          ],
          "name": "stdout"
        }
      ]
    },
    {
      "cell_type": "code",
      "metadata": {
        "colab": {
          "base_uri": "https://localhost:8080/"
        },
        "id": "vChIUXkuLS5H",
        "outputId": "70a69861-dd9d-4b6c-9b21-e6bd076c65f6"
      },
      "source": [
        "# Looping through a dictionary\n",
        "\n",
        "for key, value in vehicle_dict.items():\n",
        "  print(f'{key}: {value}')"
      ],
      "execution_count": null,
      "outputs": [
        {
          "output_type": "stream",
          "text": [
            "maker: Toyota\n",
            "mode: Corolla\n",
            "year: 2020\n",
            "color: blue\n",
            "gps: True\n",
            "hybrid: False\n",
            "MSRP: 17500\n",
            "MPG: 32.2\n"
          ],
          "name": "stdout"
        }
      ]
    },
    {
      "cell_type": "code",
      "metadata": {
        "colab": {
          "base_uri": "https://localhost:8080/"
        },
        "id": "VuFbjj2CLhQ1",
        "outputId": "263f4c2c-7374-4581-a031-e417fd1e589a"
      },
      "source": [
        "# with string formatting using title() and with alignment example \n",
        "for key, value in vehicle_dict.items():\n",
        "  print(f'{key.title():<8}: {value:<6}')"
      ],
      "execution_count": null,
      "outputs": [
        {
          "output_type": "stream",
          "text": [
            "Maker   : Toyota\n",
            "Mode    : Corolla\n",
            "Year    : 2020  \n",
            "Color   : blue  \n",
            "Gps     : 1     \n",
            "Hybrid  : 0     \n",
            "Msrp    : 17500 \n",
            "Mpg     : 32.2  \n"
          ],
          "name": "stdout"
        }
      ]
    },
    {
      "cell_type": "markdown",
      "metadata": {
        "id": "BtZ-NogBMNVe"
      },
      "source": [
        "# Nested Lists and Dicts\n",
        "* List of Lists\n",
        "* List of Dicts\n",
        "* Dictionary of lists\n",
        "* Dictionary of dicts"
      ]
    },
    {
      "cell_type": "markdown",
      "metadata": {
        "id": "oycrDbAdMbVc"
      },
      "source": [
        "## List of Lists"
      ]
    },
    {
      "cell_type": "code",
      "metadata": {
        "colab": {
          "base_uri": "https://localhost:8080/"
        },
        "id": "mScZQ3CXLuP7",
        "outputId": "b0e113fb-518c-40d6-b925-8eb5fc53cc20"
      },
      "source": [
        "ceo_nested_list = [\n",
        "    [\"Warren Buffet\", 88, \"CEO of Berkshire Hathaway\"],\n",
        "    [\"Jeff Bezos\", 55, \"CEO of Amazon\"],\n",
        "    [\"Harry Markowitz\", 91, \"Professor of Finance\"]\n",
        "]\n",
        "\n",
        "print(f'number of objects inside the list {len(ceo_nested_list)}')\n",
        "print(f'type of nested objects {type(ceo_nested_list[0])}')\n"
      ],
      "execution_count": null,
      "outputs": [
        {
          "output_type": "stream",
          "text": [
            "number of objects inside the list 3\n",
            "type of nested objects <class 'list'>\n"
          ],
          "name": "stdout"
        }
      ]
    },
    {
      "cell_type": "code",
      "metadata": {
        "colab": {
          "base_uri": "https://localhost:8080/"
        },
        "id": "dSfAahIDNJAW",
        "outputId": "d1c89ff3-2eca-4c5b-a60c-278b87117277"
      },
      "source": [
        "# slicing and navigating \n",
        "ceo_nested_list[0]"
      ],
      "execution_count": null,
      "outputs": [
        {
          "output_type": "execute_result",
          "data": {
            "text/plain": [
              "['Warren Buffet', 88, 'CEO of Berkshire Hathaway']"
            ]
          },
          "metadata": {
            "tags": []
          },
          "execution_count": 35
        }
      ]
    },
    {
      "cell_type": "code",
      "metadata": {
        "colab": {
          "base_uri": "https://localhost:8080/"
        },
        "id": "iPZYqEV9NOXr",
        "outputId": "21a9cba2-438c-4a35-8802-6f0f6b2918ee"
      },
      "source": [
        "ceo_nested_list[0][1]"
      ],
      "execution_count": null,
      "outputs": [
        {
          "output_type": "execute_result",
          "data": {
            "text/plain": [
              "88"
            ]
          },
          "metadata": {
            "tags": []
          },
          "execution_count": 36
        }
      ]
    },
    {
      "cell_type": "code",
      "metadata": {
        "colab": {
          "base_uri": "https://localhost:8080/"
        },
        "id": "SnkCZLtFNQuJ",
        "outputId": "8bc44cc9-f01d-4786-87a2-d41e128f8a00"
      },
      "source": [
        "# calculate the average age \n",
        "total = 0\n",
        "number_of_ceos = len(ceo_nested_list)\n",
        "\n",
        "for ceo in ceo_nested_list:\n",
        "  total += ceo[1]\n",
        "\n",
        "print(total/number_of_ceos)"
      ],
      "execution_count": null,
      "outputs": [
        {
          "output_type": "stream",
          "text": [
            "78.0\n"
          ],
          "name": "stdout"
        }
      ]
    },
    {
      "cell_type": "markdown",
      "metadata": {
        "id": "w-jE8XluNtDN"
      },
      "source": [
        "## List of Dicts"
      ]
    },
    {
      "cell_type": "code",
      "metadata": {
        "colab": {
          "base_uri": "https://localhost:8080/"
        },
        "id": "NddrKlheNgFI",
        "outputId": "c1be3941-381c-4f6e-9785-0c6ed5fd1e97"
      },
      "source": [
        "ceo_nested_dict = [\n",
        "    {\n",
        "        \"name\": \"Warren Buffet\",\n",
        "        \"age\": 88,\n",
        "        \"occupation\": \"CEO of Berkshire Hathaway\"\n",
        "    },\n",
        "    {\n",
        "        \"name\": \"Jeff Bezos\",\n",
        "        \"age\": 55,\n",
        "        \"occupation\": \"CEO of Amazon\"\n",
        "    },\n",
        "    {\n",
        "        \"name\": \"Harry Markowitz\",\n",
        "        \"age\": 91,\n",
        "        \"occupation\": \"Professor of Finance\"\n",
        "    }\n",
        "]\n",
        "\n",
        "\n",
        "print(f'number of objects inside the list {len(ceo_nested_dict)}')\n",
        "print(f'type of nested objects {type(ceo_nested_dict[0])}')"
      ],
      "execution_count": null,
      "outputs": [
        {
          "output_type": "stream",
          "text": [
            "number of objects inside the list 3\n",
            "type of nested objects <class 'dict'>\n"
          ],
          "name": "stdout"
        }
      ]
    },
    {
      "cell_type": "code",
      "metadata": {
        "colab": {
          "base_uri": "https://localhost:8080/",
          "height": 35
        },
        "id": "brRTXdADN5Vq",
        "outputId": "877af83d-e66c-499d-8c2d-09a6e92687fa"
      },
      "source": [
        "ceo_nested_dict[0][\"name\"]"
      ],
      "execution_count": null,
      "outputs": [
        {
          "output_type": "execute_result",
          "data": {
            "application/vnd.google.colaboratory.intrinsic+json": {
              "type": "string"
            },
            "text/plain": [
              "'Warren Buffet'"
            ]
          },
          "metadata": {
            "tags": []
          },
          "execution_count": 42
        }
      ]
    },
    {
      "cell_type": "code",
      "metadata": {
        "colab": {
          "base_uri": "https://localhost:8080/"
        },
        "id": "q1jVaoC-OBos",
        "outputId": "ca9c237a-81c4-467c-b641-3b9d52f8241a"
      },
      "source": [
        "ceo_nested_dict[0][\"age\"]"
      ],
      "execution_count": null,
      "outputs": [
        {
          "output_type": "execute_result",
          "data": {
            "text/plain": [
              "88"
            ]
          },
          "metadata": {
            "tags": []
          },
          "execution_count": 43
        }
      ]
    },
    {
      "cell_type": "code",
      "metadata": {
        "colab": {
          "base_uri": "https://localhost:8080/"
        },
        "id": "IHa2mPr5ODtl",
        "outputId": "fcb15853-a182-43d4-d22d-5723001f4b5d"
      },
      "source": [
        "# calculate the average age\n",
        "\n",
        "total = 0\n",
        "number_of_ceos = len(ceo_nested_dict)\n",
        "\n",
        "for ceo in ceo_nested_dict:\n",
        "  total += ceo[\"age\"]\n",
        "\n",
        "print(total/number_of_ceos)"
      ],
      "execution_count": null,
      "outputs": [
        {
          "output_type": "stream",
          "text": [
            "78.0\n"
          ],
          "name": "stdout"
        }
      ]
    },
    {
      "cell_type": "markdown",
      "metadata": {
        "id": "h8CXD-QROVGU"
      },
      "source": [
        "## Dictionary of Lists"
      ]
    },
    {
      "cell_type": "code",
      "metadata": {
        "colab": {
          "base_uri": "https://localhost:8080/"
        },
        "id": "iCtBBMaMOJDq",
        "outputId": "6a92880a-53fa-490d-e0d0-3b27d3553d2b"
      },
      "source": [
        "stocks_nested_list = {\n",
        "    \"APPL\": [\"Apple\", 101.32, \"NASDAQ\", 937.7],\n",
        "    \"MU\": [\"Micron Technology\", 32.12, \"NASDAQ\", 48.03],\n",
        "    \"AMD\": [\"Advanced Micro Devices\", 23.12, \"NASDAQ\", 29.94],\n",
        "    \"TWTR\": [\"Twitter\", 34.40, \"NASDAQ\", 26.42]\n",
        "}\n",
        "\n",
        "print(f'number of objects inside the list {len(stocks_nested_list)}')\n",
        "print(f'type of objects {type(stocks_nested_list)}')\n",
        "print(f'type of nested objects {type(stocks_nested_list[\"APPL\"])}')"
      ],
      "execution_count": null,
      "outputs": [
        {
          "output_type": "stream",
          "text": [
            "number of objects inside the list 4\n",
            "type of objects <class 'dict'>\n",
            "type of nested objects <class 'list'>\n"
          ],
          "name": "stdout"
        }
      ]
    },
    {
      "cell_type": "code",
      "metadata": {
        "colab": {
          "base_uri": "https://localhost:8080/"
        },
        "id": "TEE-BbxzOw5N",
        "outputId": "f9017202-907b-441e-af82-be35db581ec4"
      },
      "source": [
        "# get the stock price of APPL\n",
        "stocks_nested_list[\"APPL\"][1]"
      ],
      "execution_count": null,
      "outputs": [
        {
          "output_type": "execute_result",
          "data": {
            "text/plain": [
              "101.32"
            ]
          },
          "metadata": {
            "tags": []
          },
          "execution_count": 50
        }
      ]
    },
    {
      "cell_type": "code",
      "metadata": {
        "colab": {
          "base_uri": "https://localhost:8080/"
        },
        "id": "OVgH63GBPBOf",
        "outputId": "358dd13b-4a43-458b-82f7-647547ee4b54"
      },
      "source": [
        "# Calculate total investment for buying 10 shares of each at captured price\n",
        "total = 0\n",
        "for price in stocks_nested_list.values():\n",
        "  total += price[1]*10\n",
        "\n",
        "print(f'total investment: {total}')"
      ],
      "execution_count": null,
      "outputs": [
        {
          "output_type": "stream",
          "text": [
            "total investment: 1909.6\n"
          ],
          "name": "stdout"
        }
      ]
    },
    {
      "cell_type": "code",
      "metadata": {
        "colab": {
          "base_uri": "https://localhost:8080/"
        },
        "id": "KxoisEN4PhVj",
        "outputId": "8014b957-60c3-4d54-e8fa-468da671178d"
      },
      "source": [
        "# print ticker and current price\n",
        "\n",
        "for ticker, price in stocks_nested_list.items():\n",
        "  print(f'{ticker} : {price[1]}')"
      ],
      "execution_count": null,
      "outputs": [
        {
          "output_type": "stream",
          "text": [
            "APPL : 101.32\n",
            "MU : 32.12\n",
            "AMD : 23.12\n",
            "TWTR : 34.4\n"
          ],
          "name": "stdout"
        }
      ]
    },
    {
      "cell_type": "code",
      "metadata": {
        "colab": {
          "base_uri": "https://localhost:8080/"
        },
        "id": "mhn0gX4PPuMk",
        "outputId": "3314aba6-4824-4676-a89e-b633b01cc34c"
      },
      "source": [
        "# print ticker and current price with alignment\n",
        "\n",
        "for ticker, price in stocks_nested_list.items():\n",
        "  print(f'{ticker:<4} : {price[1]}')"
      ],
      "execution_count": null,
      "outputs": [
        {
          "output_type": "stream",
          "text": [
            "APPL : 101.32\n",
            "MU   : 32.12\n",
            "AMD  : 23.12\n",
            "TWTR : 34.4\n"
          ],
          "name": "stdout"
        }
      ]
    },
    {
      "cell_type": "markdown",
      "metadata": {
        "id": "Dffi3RqzP2y2"
      },
      "source": [
        "## Dictionary of Dicts"
      ]
    },
    {
      "cell_type": "code",
      "metadata": {
        "colab": {
          "base_uri": "https://localhost:8080/"
        },
        "id": "w85SFQOrPz79",
        "outputId": "5a496af7-fb87-438a-9c89-2d0fa9c22e96"
      },
      "source": [
        "stocks_nested_dict = {\n",
        "    \"APPL\": {\n",
        "        \"name\": \"Apple\",\n",
        "        \"exchange\": \"NASDAQ\",\n",
        "        \"market_cap\": 937.7\n",
        "    },\n",
        "    \"MU\": {\n",
        "        \"name\": \"Micron Technology\",\n",
        "        \"exchange\": \"NASDAQ\",\n",
        "        \"market_cap\": 48.03\n",
        "    },\n",
        "    \"AMD\": {\n",
        "        \"name\": \"Advanced Micro Devices\",\n",
        "        \"exchange\": \"NASDAQ\",\n",
        "        \"market_cap\": 29.94\n",
        "    },\n",
        "    \"TWTR\": {\n",
        "        \"name\": \"Twitter\",\n",
        "        \"exchange\": \"NASDAQ\",\n",
        "        \"market_cap\": 26.42\n",
        "    }\n",
        "}\n",
        "\n",
        "print(f'number of objects inside the list {len(stocks_nested_dict)}')\n",
        "print(f'type of objects {type(stocks_nested_dict)}')\n",
        "print(f'type of nested objects {type(stocks_nested_dict[\"APPL\"])}')"
      ],
      "execution_count": null,
      "outputs": [
        {
          "output_type": "stream",
          "text": [
            "number of objects inside the list 4\n",
            "type of objects <class 'dict'>\n",
            "type of nested objects <class 'dict'>\n"
          ],
          "name": "stdout"
        }
      ]
    },
    {
      "cell_type": "code",
      "metadata": {
        "colab": {
          "base_uri": "https://localhost:8080/"
        },
        "id": "EBqne8VVP_8f",
        "outputId": "f57353d8-1337-4423-abaa-f87caa87dc2e"
      },
      "source": [
        "# capture TWTR market cap\n",
        "stocks_nested_dict['TWTR']['market_cap']"
      ],
      "execution_count": null,
      "outputs": [
        {
          "output_type": "execute_result",
          "data": {
            "text/plain": [
              "26.42"
            ]
          },
          "metadata": {
            "tags": []
          },
          "execution_count": 56
        }
      ]
    },
    {
      "cell_type": "code",
      "metadata": {
        "colab": {
          "base_uri": "https://localhost:8080/"
        },
        "id": "sKqvQok_QHnG",
        "outputId": "8f73675f-e523-43a1-d5d5-db8886adbbf3"
      },
      "source": [
        "# calculate total market cap for all 4\n",
        "total = 0\n",
        "for m in stocks_nested_dict.values():\n",
        "  total += m[\"market_cap\"]\n",
        "\n",
        "print(f'cumulative market cap total {total}')"
      ],
      "execution_count": null,
      "outputs": [
        {
          "output_type": "stream",
          "text": [
            "cumulative market cap total 1042.0900000000001\n"
          ],
          "name": "stdout"
        }
      ]
    },
    {
      "cell_type": "code",
      "metadata": {
        "colab": {
          "base_uri": "https://localhost:8080/"
        },
        "id": "lbmDRlM7Qeh2",
        "outputId": "e644b6f0-d3c2-400f-c42a-cddb054a7ff9"
      },
      "source": [
        "# calculate total market cap for all 4 with formatting\n",
        "total = 0\n",
        "for m in stocks_nested_dict.values():\n",
        "  total += m[\"market_cap\"]\n",
        "\n",
        "print(f'cumulative market cap total {total:.2f}')"
      ],
      "execution_count": null,
      "outputs": [
        {
          "output_type": "stream",
          "text": [
            "cumulative market cap total 1042.09\n"
          ],
          "name": "stdout"
        }
      ]
    },
    {
      "cell_type": "markdown",
      "metadata": {
        "id": "IchJjBDoSfiH"
      },
      "source": [
        "# Functions"
      ]
    },
    {
      "cell_type": "code",
      "metadata": {
        "id": "6Kb-SrcKQnBu"
      },
      "source": [
        "# Basic function that take no arguments\n",
        "def greeting():\n",
        "  print(\"Welcome to the channel!\")"
      ],
      "execution_count": null,
      "outputs": []
    },
    {
      "cell_type": "code",
      "metadata": {
        "colab": {
          "base_uri": "https://localhost:8080/"
        },
        "id": "xMKsh3CBSn5T",
        "outputId": "2287fda1-5e10-434b-bc5d-c16aa5398294"
      },
      "source": [
        "# calling the function\n",
        "greeting()"
      ],
      "execution_count": null,
      "outputs": [
        {
          "output_type": "stream",
          "text": [
            "Welcome to the channel!\n"
          ],
          "name": "stdout"
        }
      ]
    },
    {
      "cell_type": "markdown",
      "metadata": {
        "id": "6UhmH06oSrhm"
      },
      "source": [
        "## Functions and Arguments"
      ]
    },
    {
      "cell_type": "code",
      "metadata": {
        "id": "XiTCI4fYSqKY"
      },
      "source": [
        "def calculate_tip(amount, percent):\n",
        "  tip = amount * percent/100\n",
        "  return tip"
      ],
      "execution_count": null,
      "outputs": []
    },
    {
      "cell_type": "code",
      "metadata": {
        "colab": {
          "base_uri": "https://localhost:8080/"
        },
        "id": "7j6JD6yiS5Oj",
        "outputId": "2ed59b9f-f12d-4087-fce4-5162367fb595"
      },
      "source": [
        "total_bill = 120\n",
        "tip_percent = 15\n",
        "\n",
        "calculate_tip(total_bill, tip_percent)"
      ],
      "execution_count": null,
      "outputs": [
        {
          "output_type": "execute_result",
          "data": {
            "text/plain": [
              "18.0"
            ]
          },
          "metadata": {
            "tags": []
          },
          "execution_count": 81
        }
      ]
    },
    {
      "cell_type": "code",
      "metadata": {
        "colab": {
          "base_uri": "https://localhost:8080/"
        },
        "id": "J-i2-wUwTCNM",
        "outputId": "3d034b83-6010-4b94-b905-1317cec5148e"
      },
      "source": [
        "# remember these are positional arguments if we switched the order we get a differnet results\n",
        "total_bill = 120\n",
        "tip_percent = 15\n",
        "\n",
        "calculate_tip(tip_percent, total_bill)"
      ],
      "execution_count": null,
      "outputs": [
        {
          "output_type": "execute_result",
          "data": {
            "text/plain": [
              "18.0"
            ]
          },
          "metadata": {
            "tags": []
          },
          "execution_count": 82
        }
      ]
    },
    {
      "cell_type": "code",
      "metadata": {
        "colab": {
          "base_uri": "https://localhost:8080/"
        },
        "id": "7L5_R6FKTTTG",
        "outputId": "fba767ec-71a6-4577-eb3f-cc9789244052"
      },
      "source": [
        "# But if we do, then we can reference the name of the argument \n",
        "total_bill = 120\n",
        "tip_percent = 15\n",
        "\n",
        "calculate_tip(percent=tip_percent, amount=total_bill)"
      ],
      "execution_count": null,
      "outputs": [
        {
          "output_type": "execute_result",
          "data": {
            "text/plain": [
              "18.0"
            ]
          },
          "metadata": {
            "tags": []
          },
          "execution_count": 83
        }
      ]
    },
    {
      "cell_type": "code",
      "metadata": {
        "id": "_LS7w7PdTbe8"
      },
      "source": [
        "# we can also specify default values\n",
        "def calculate_tip(amount, rating=5):\n",
        "  if rating == 5:\n",
        "    percent = 20\n",
        "  elif rating == 4:\n",
        "    percent = 18\n",
        "  elif rating == 3:\n",
        "    percent = 15\n",
        "  elif rating == 2:\n",
        "    percent = 10\n",
        "  else:\n",
        "    percent = 8\n",
        "\n",
        "  tip = amount * percent/100\n",
        "\n",
        "  return tip"
      ],
      "execution_count": null,
      "outputs": []
    },
    {
      "cell_type": "code",
      "metadata": {
        "colab": {
          "base_uri": "https://localhost:8080/"
        },
        "id": "r4lyZU0eT6Zv",
        "outputId": "05bd5972-288b-4b59-af29-9dfc271ea687"
      },
      "source": [
        "total_bill = 120\n",
        "rating = 4\n",
        "\n",
        "calculate_tip(total_bill)"
      ],
      "execution_count": null,
      "outputs": [
        {
          "output_type": "execute_result",
          "data": {
            "text/plain": [
              "24.0"
            ]
          },
          "metadata": {
            "tags": []
          },
          "execution_count": 85
        }
      ]
    },
    {
      "cell_type": "code",
      "metadata": {
        "colab": {
          "base_uri": "https://localhost:8080/"
        },
        "id": "b96a_UxHT_YF",
        "outputId": "6040dc77-3060-441b-b311-750f3f5513dd"
      },
      "source": [
        "calculate_tip(total_bill, rating)"
      ],
      "execution_count": null,
      "outputs": [
        {
          "output_type": "execute_result",
          "data": {
            "text/plain": [
              "21.6"
            ]
          },
          "metadata": {
            "tags": []
          },
          "execution_count": 86
        }
      ]
    },
    {
      "cell_type": "code",
      "metadata": {
        "colab": {
          "base_uri": "https://localhost:8080/"
        },
        "id": "gyQrn3a5UBo8",
        "outputId": "983f2ca8-4297-4ecd-e061-47c1b19e7c0b"
      },
      "source": [
        "calculate_tip(87, 2)"
      ],
      "execution_count": null,
      "outputs": [
        {
          "output_type": "execute_result",
          "data": {
            "text/plain": [
              "8.7"
            ]
          },
          "metadata": {
            "tags": []
          },
          "execution_count": 87
        }
      ]
    },
    {
      "cell_type": "markdown",
      "metadata": {
        "id": "cXgqAE4VaOj8"
      },
      "source": [
        "### How to read a formula and convert it into a python function \n",
        "\n",
        "**Compound Annual Growth Rate (CAGR)**\n",
        "$$\\Large CAGR = (\\frac{EB}{BB})^{\\frac{1}{n}}-1$$\n",
        "\n",
        "where\n",
        "* EB = Ending Balance\n",
        "* BB = Beginning Balance\n",
        "* $n$ = number of years"
      ]
    },
    {
      "cell_type": "code",
      "metadata": {
        "id": "2h8fPx2eaOPi"
      },
      "source": [
        "# write a function based on the formula above and use it\n",
        "def calculate_compound_growth_rate(eb, bb, n):\n",
        "  cagr = (eb/bb)**(1/n) -1\n",
        "  return cagr"
      ],
      "execution_count": null,
      "outputs": []
    },
    {
      "cell_type": "code",
      "metadata": {
        "colab": {
          "base_uri": "https://localhost:8080/"
        },
        "id": "w3OB9aSZbUiJ",
        "outputId": "38cfa863-b8e1-4e36-b33c-b68a14cc10c1"
      },
      "source": [
        "beginning_balance = 47000.00\n",
        "ending_balance = 48930.00\n",
        "years = 1.0\n",
        "\n",
        "year_one_growth = calculate_compound_growth_rate(ending_balance, beginning_balance, years)\n",
        "print(year_one_growth)"
      ],
      "execution_count": null,
      "outputs": [
        {
          "output_type": "stream",
          "text": [
            "0.04106382978723411\n"
          ],
          "name": "stdout"
        }
      ]
    },
    {
      "cell_type": "markdown",
      "metadata": {
        "id": "p0cZlzA3UQts"
      },
      "source": [
        "# Importing Modules\n",
        "\n",
        "* Sometimes we face certain limitations using native Python and may require the assistance of another module to enhance functionlity and add new features. As opposed to writing everything on our own from scratch, we can leverage true-and-tested libraries and modules that do exactly whar we want."
      ]
    },
    {
      "cell_type": "code",
      "metadata": {
        "id": "zvpt8RM0UExJ"
      },
      "source": [
        "# Example of limitations of lists\n",
        "\n",
        "amount_spent_trip1 = [12, 23, 45, 89, 100]\n",
        "amount_spent_trip2 = [90, 10, 34, 11, 104]\n",
        "amount_spent_trip3 = [12, 2, 5, 8, 5]"
      ],
      "execution_count": null,
      "outputs": []
    },
    {
      "cell_type": "code",
      "metadata": {
        "colab": {
          "base_uri": "https://localhost:8080/"
        },
        "id": "2mICg-CQVTyc",
        "outputId": "800f6c94-4011-41f0-bb8d-a8751fb4cfd3"
      },
      "source": [
        "# lets add all these lists into one\n",
        "amount_spent_trip1 + amount_spent_trip2 + amount_spent_trip3"
      ],
      "execution_count": null,
      "outputs": [
        {
          "output_type": "execute_result",
          "data": {
            "text/plain": [
              "[12, 23, 45, 89, 100, 90, 10, 34, 11, 104, 12, 2, 5, 8, 5]"
            ]
          },
          "metadata": {
            "tags": []
          },
          "execution_count": 92
        }
      ]
    },
    {
      "cell_type": "code",
      "metadata": {
        "colab": {
          "base_uri": "https://localhost:8080/"
        },
        "id": "bcqykOMWVaNG",
        "outputId": "00c2136f-db0b-40fd-812f-1c2fd07c56ce"
      },
      "source": [
        "# get the grand total spent\n",
        "sum(amount_spent_trip1 + amount_spent_trip2 + amount_spent_trip3)"
      ],
      "execution_count": null,
      "outputs": [
        {
          "output_type": "execute_result",
          "data": {
            "text/plain": [
              "550"
            ]
          },
          "metadata": {
            "tags": []
          },
          "execution_count": 93
        }
      ]
    },
    {
      "cell_type": "markdown",
      "metadata": {
        "id": "ItyZGUYOVh3O"
      },
      "source": [
        "So far so good"
      ]
    },
    {
      "cell_type": "code",
      "metadata": {
        "id": "bWFd_uoCVhBZ"
      },
      "source": [
        "# let's say I want to convert into a new currency where $1 = 3 XYZ"
      ],
      "execution_count": null,
      "outputs": []
    },
    {
      "cell_type": "code",
      "metadata": {
        "colab": {
          "base_uri": "https://localhost:8080/"
        },
        "id": "aavOI65ZVm_5",
        "outputId": "9838f34d-43b5-4a0d-9a4e-2cfc9f525668"
      },
      "source": [
        "# notice multiplying just repeats the list, does not apply the scalar value to every element\n",
        "amount_spent_trip1 * 3"
      ],
      "execution_count": null,
      "outputs": [
        {
          "output_type": "execute_result",
          "data": {
            "text/plain": [
              "[12, 23, 45, 89, 100, 12, 23, 45, 89, 100, 12, 23, 45, 89, 100]"
            ]
          },
          "metadata": {
            "tags": []
          },
          "execution_count": 98
        }
      ]
    },
    {
      "cell_type": "code",
      "metadata": {
        "colab": {
          "base_uri": "https://localhost:8080/"
        },
        "id": "Qs20LLf0V7cH",
        "outputId": "839a7c38-7375-44b2-8455-baac35684fc1"
      },
      "source": [
        "# one option is looping\n",
        "new_list = []\n",
        "for x in amount_spent_trip1:\n",
        "  new_list.append(x*3)\n",
        "print(new_list)"
      ],
      "execution_count": null,
      "outputs": [
        {
          "output_type": "stream",
          "text": [
            "[36, 69, 135, 267, 300]\n"
          ],
          "name": "stdout"
        }
      ]
    },
    {
      "cell_type": "markdown",
      "metadata": {
        "id": "HO5rfX71V4ch"
      },
      "source": [
        "**Numpy** to the rescue"
      ]
    },
    {
      "cell_type": "code",
      "metadata": {
        "colab": {
          "base_uri": "https://localhost:8080/"
        },
        "id": "ThpgztmwVoqQ",
        "outputId": "74c86c3b-bbdd-4607-ed6d-0606c5395829"
      },
      "source": [
        "import numpy as np\n",
        "\n",
        "np.array(amount_spent_trip1)* 3"
      ],
      "execution_count": null,
      "outputs": [
        {
          "output_type": "execute_result",
          "data": {
            "text/plain": [
              "array([ 36,  69, 135, 267, 300])"
            ]
          },
          "metadata": {
            "tags": []
          },
          "execution_count": 100
        }
      ]
    },
    {
      "cell_type": "markdown",
      "metadata": {
        "id": "i0ifOiE_Xkwc"
      },
      "source": [
        "# Advanced Looping \n",
        "* using enumerate \n",
        "* using zip"
      ]
    },
    {
      "cell_type": "markdown",
      "metadata": {
        "id": "gvlihaFoYDBa"
      },
      "source": [
        "There are different ways to get an index while looping, including the use of `enumerate` "
      ]
    },
    {
      "cell_type": "code",
      "metadata": {
        "colab": {
          "base_uri": "https://localhost:8080/"
        },
        "id": "nvorSmdXXkP6",
        "outputId": "df3f8701-e99f-4c85-d50c-0c4fec2943e6"
      },
      "source": [
        "students = [\"James\", \"Sara\", \"Samantha\", \"Ali\", \"Mike\", \"Greg\"]\n",
        "\n",
        "for name in students:\n",
        "  print(name)"
      ],
      "execution_count": null,
      "outputs": [
        {
          "output_type": "stream",
          "text": [
            "James\n",
            "Sara\n",
            "Samantha\n",
            "Ali\n",
            "Mike\n",
            "Greg\n"
          ],
          "name": "stdout"
        }
      ]
    },
    {
      "cell_type": "code",
      "metadata": {
        "colab": {
          "base_uri": "https://localhost:8080/"
        },
        "id": "Bcd67VtEV3sj",
        "outputId": "2f939072-59d6-4af2-912b-8bf28feedf61"
      },
      "source": [
        "for i in range(len(students)):\n",
        "  print(i, students[i])"
      ],
      "execution_count": null,
      "outputs": [
        {
          "output_type": "stream",
          "text": [
            "0 James\n",
            "1 Sara\n",
            "2 Samantha\n",
            "3 Ali\n",
            "4 Mike\n",
            "5 Greg\n"
          ],
          "name": "stdout"
        }
      ]
    },
    {
      "cell_type": "code",
      "metadata": {
        "colab": {
          "base_uri": "https://localhost:8080/"
        },
        "id": "YlcISBUqYeJC",
        "outputId": "087138b6-8c30-4168-b2e4-0f3d14212f15"
      },
      "source": [
        "# a more intuitive option\n",
        "for idx, name in enumerate(students):\n",
        "  print(idx, name)"
      ],
      "execution_count": null,
      "outputs": [
        {
          "output_type": "stream",
          "text": [
            "0 James\n",
            "1 Sara\n",
            "2 Samantha\n",
            "3 Ali\n",
            "4 Mike\n",
            "5 Greg\n"
          ],
          "name": "stdout"
        }
      ]
    },
    {
      "cell_type": "markdown",
      "metadata": {
        "id": "ueyaoJrsYrOY"
      },
      "source": [
        "### zip\n",
        "This is a great feature if I have 2 or more lists where I want to match the first item from the first list, with the first item in the second list ..etc. see example below"
      ]
    },
    {
      "cell_type": "code",
      "metadata": {
        "id": "0vQU1J7gYoCw"
      },
      "source": [
        "# here we assume the order (index) of names and grades match meaning James has a grade of 75\n",
        "students = [\"James\", \"Sara\", \"Samantha\", \"Ali\", \"Mike\", \"Greg\"]\n",
        "grades = [75, 100, 98, 89, 92, 64]"
      ],
      "execution_count": null,
      "outputs": []
    },
    {
      "cell_type": "code",
      "metadata": {
        "colab": {
          "base_uri": "https://localhost:8080/"
        },
        "id": "IfL30zw0ZJ3J",
        "outputId": "d42c1f25-dd51-4caf-f9b1-8cdb727f7ab3"
      },
      "source": [
        "for student, grade in zip(students, grades):\n",
        "  print(f'{student}: {grade}')"
      ],
      "execution_count": null,
      "outputs": [
        {
          "output_type": "stream",
          "text": [
            "James: 75\n",
            "Sara: 100\n",
            "Samantha: 98\n",
            "Ali: 89\n",
            "Mike: 92\n",
            "Greg: 64\n"
          ],
          "name": "stdout"
        }
      ]
    },
    {
      "cell_type": "code",
      "metadata": {
        "colab": {
          "base_uri": "https://localhost:8080/"
        },
        "id": "n5EjY_OJZQ3o",
        "outputId": "6d878210-e5c2-4a5b-c2bf-a76896889716"
      },
      "source": [
        "students = [\"James\", \"Sara\", \"Samantha\", \"Ali\", \"Mike\", \"Greg\"]\n",
        "math = [75, 100, 98, 89, 92, 64]\n",
        "chemistry = [66, 92, 88, 89, 77]\n",
        "\n",
        "for s, m, c in zip(students, math, chemistry):\n",
        "  average_grade = (m+c)/2\n",
        "  print(f'{s} average score is {average_grade}')"
      ],
      "execution_count": null,
      "outputs": [
        {
          "output_type": "stream",
          "text": [
            "James average score is 70.5\n",
            "Sara average score is 96.0\n",
            "Samantha average score is 93.0\n",
            "Ali average score is 89.0\n",
            "Mike average score is 84.5\n"
          ],
          "name": "stdout"
        }
      ]
    },
    {
      "cell_type": "code",
      "metadata": {
        "id": "L4oQLN3kZo09"
      },
      "source": [
        ""
      ],
      "execution_count": null,
      "outputs": []
    }
  ]
}